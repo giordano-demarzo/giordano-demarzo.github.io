{
  "nbformat": 4,
  "nbformat_minor": 0,
  "metadata": {
    "colab": {
      "provenance": [],
      "gpuType": "T4"
    },
    "kernelspec": {
      "name": "python3",
      "display_name": "Python 3"
    },
    "language_info": {
      "name": "python"
    },
    "accelerator": "GPU"
  },
  "cells": [
    {
      "cell_type": "markdown",
      "source": [
        "# Patent IPC Classification: Qwen 3 Fine-tuning Tutorial\n",
        "\n",
        "## Overview\n",
        "\n",
        "This notebook demonstrates how to fine-tune the **Qwen 3-0.6B** language model for **patent classification** using **LoRA (Low-Rank Adaptation)** technique. We transform a general-purpose language model into a specialized system capable of automatically classifying patent documents according to the International Patent Classification (IPC) system.\n",
        "\n",
        "## What We Accomplish\n",
        "\n",
        "- **Model Adaptation**: Fine-tune Qwen 3 for domain-specific patent text understanding\n",
        "- **Efficient Training**: Use LoRA to train only 1.67% of model parameters (10M out of 596M)\n",
        "- **Performance Comparison**: Evaluate base model vs. fine-tuned model performance\n",
        "- **Instruction Following**: Implement chat-based formatting for consistent model responses\n",
        "\n",
        "## Dataset Description\n",
        "\n",
        "Our dataset consists of **2,500 patent applications** spanning from **1980 to 2023**, featuring:\n",
        "\n",
        "- **Patent Descriptions**: Technical text describing inventions and innovations\n",
        "- **IPC Codes**: International Patent Classification codes (e.g., \"B23K26, H01F1\")\n",
        "- **Average Length**: ~824 characters per patent description\n",
        "- **Split Ratio**: 95% training (2,375 samples) / 5% evaluation (125 samples)\n"
      ],
      "metadata": {
        "id": "pmRA90_InJzV"
      }
    },
    {
      "cell_type": "markdown",
      "source": [
        "This cell sets up the foundational environment for the fine-tuning tutorial.\n",
        "It imports essential libraries including transformers for model handling, PEFT for LoRA fine-tuning,\n",
        "datasets for data management, and various utilities for metrics and visualization.\n",
        "Random seeds are set to ensure reproducible results across different runs.\n",
        "The warning filters suppress non-critical messages to keep output clean during training."
      ],
      "metadata": {
        "id": "WOHlPRz6kl36"
      }
    },
    {
      "cell_type": "code",
      "source": [
        "# Patent IPC Classification: Qwen 3 Fine-tuning Tutorial\n",
        "# A comprehensive guide to instruction fine-tuning Qwen 3 for patent classification\n",
        "\n",
        "# Fix for pyarrow/datasets compatibility issue\n",
        "import subprocess\n",
        "import sys\n",
        "from datasets import Dataset\n",
        "import pandas as pd\n",
        "import random\n",
        "import torch\n",
        "import numpy as np\n",
        "from datasets import Dataset\n",
        "from transformers import (\n",
        "    AutoTokenizer,\n",
        "    AutoModelForCausalLM,\n",
        "    TrainingArguments,\n",
        "    Trainer,\n",
        "    DataCollatorForLanguageModeling\n",
        ")\n",
        "from peft import LoraConfig, get_peft_model, TaskType\n",
        "import matplotlib.pyplot as plt\n",
        "from sklearn.metrics import accuracy_score, classification_report\n",
        "import warnings\n",
        "warnings.filterwarnings('ignore')\n",
        "\n",
        "# Set random seeds for reproducibility\n",
        "random.seed(42)\n",
        "np.random.seed(42)\n",
        "torch.manual_seed(42)"
      ],
      "metadata": {
        "colab": {
          "base_uri": "https://localhost:8080/"
        },
        "id": "F24qIS1zPsOb",
        "outputId": "e214ab17-f42d-4980-9be6-8cc03e2952ba"
      },
      "execution_count": 1,
      "outputs": [
        {
          "output_type": "execute_result",
          "data": {
            "text/plain": [
              "<torch._C.Generator at 0x7dbbeb39a5f0>"
            ]
          },
          "metadata": {},
          "execution_count": 1
        }
      ]
    },
    {
      "cell_type": "markdown",
      "source": [
        "This cell loads a pre-created sample dataset of patent applications with IPC classifications.\n",
        "The dataset contains patent text descriptions and their corresponding IPC codes from 1980-2023.\n",
        "Data is split into training (95%) and evaluation (5%) sets using a fixed seed for reproducibility.\n",
        "The sample contains 2,500 total examples with an average text length of 824 characters.\n",
        "Dataset statistics are displayed to verify data quality and distribution before training begins."
      ],
      "metadata": {
        "id": "KAWjRW0akpgO"
      }
    },
    {
      "cell_type": "code",
      "source": [
        "# ============================================================================\n",
        "# SECTION 1: DATA PREPARATION\n",
        "# ============================================================================\n",
        "\n",
        "\n",
        "# Load pre-created sample data for faster tutorial execution\n",
        "def load_patent_sample():\n",
        "    \"\"\"Load pre-created patent sample data for tutorial\"\"\"\n",
        "\n",
        "    sample_file = \"patent_sample_data.csv\"\n",
        "    print(f\"📁 Loading sample data from: {sample_file}\")\n",
        "    df = pd.read_csv(sample_file)\n",
        "\n",
        "\n",
        "    # Display sample info\n",
        "    print(f\"📊 Sample statistics:\")\n",
        "    print(f\"   📅 Years: {df['APPLN_YR'].min()}-{df['APPLN_YR'].max()}\")\n",
        "    print(f\"   📄 Avg text length: {df['text'].str.len().mean():.0f} chars\")\n",
        "    print(f\"   🏷️  Example IPC codes: {df['ipc_codes'].iloc[0]}\")\n",
        "\n",
        "    return df\n",
        "\n",
        "# Load sample data\n",
        "patent_df = load_patent_sample()\n",
        "\n",
        "# Train-test split - with fallback method if datasets library has issues\n",
        "raw_dataset = Dataset.from_pandas(patent_df)\n",
        "raw_dataset = raw_dataset.shuffle(seed=42)\n",
        "\n",
        "# 95% train, 5% test for this tutorial\n",
        "split = raw_dataset.train_test_split(test_size=0.05, seed=42)\n",
        "train_ds = split[\"train\"]\n",
        "eval_ds = split[\"test\"]\n",
        "\n",
        "\n",
        "print(f\"📚 Training samples: {len(train_ds)}\")\n",
        "print(f\"🧪 Evaluation samples: {len(eval_ds)}\")"
      ],
      "metadata": {
        "colab": {
          "base_uri": "https://localhost:8080/"
        },
        "id": "YY8fBdR0QOS-",
        "outputId": "768d3d43-d12d-4d1f-a3b1-afe55d2969bf"
      },
      "execution_count": 2,
      "outputs": [
        {
          "output_type": "stream",
          "name": "stdout",
          "text": [
            "📁 Loading sample data from: patent_sample_data.csv\n",
            "📊 Sample statistics:\n",
            "   📅 Years: 1980-2023\n",
            "   📄 Avg text length: 824 chars\n",
            "   🏷️  Example IPC codes: C08F4, C07F17, C08F210\n",
            "📚 Training samples: 2375\n",
            "🧪 Evaluation samples: 125\n"
          ]
        }
      ]
    },
    {
      "cell_type": "markdown",
      "source": [
        "This cell loads the Qwen3-0.6B model and its corresponding tokenizer from Hugging Face.\n",
        "The model is configured for causal language modeling with automatic device mapping for GPU usage.\n",
        "The tokenizer's padding token is set to the EOS token to handle variable-length sequences properly.\n",
        "Model parameters are displayed (596M) confirming it's the compact 0.6B version suitable for educational use.\n",
        "This lightweight model allows for faster training while demonstrating key fine-tuning concepts."
      ],
      "metadata": {
        "id": "7ptExzI6kvNP"
      }
    },
    {
      "cell_type": "code",
      "source": [
        "# ============================================================================\n",
        "# SECTION 2: QWEN 3 MODEL SETUP\n",
        "# ============================================================================\n",
        "\n",
        "# Model configuration\n",
        "model_name = \"Qwen/Qwen3-0.6B\"\n",
        "device = \"cuda\" if torch.cuda.is_available() else \"cpu\"\n",
        "\n",
        "print(f\"🔧 Loading Qwen 3 model: {model_name}\")\n",
        "print(f\"💻 Device: {device}\")\n",
        "\n",
        "# Load tokenizer\n",
        "tokenizer = AutoTokenizer.from_pretrained(model_name)\n",
        "if tokenizer.pad_token is None:\n",
        "    tokenizer.pad_token = tokenizer.eos_token\n",
        "\n",
        "# Load Qwen 3 model (full precision)\n",
        "model = AutoModelForCausalLM.from_pretrained(\n",
        "    model_name,\n",
        "    torch_dtype=\"auto\",\n",
        "    device_map=\"auto\" if torch.cuda.is_available() else None,\n",
        ")\n",
        "\n",
        "print(\"✅ Qwen 3 model and tokenizer loaded successfully!\")\n",
        "print(f\"📊 Model parameters: {model.num_parameters():,}\")\n",
        "print(f\"🔥 Model size: Only 0.6B parameters - perfect for education!\")\n"
      ],
      "metadata": {
        "colab": {
          "base_uri": "https://localhost:8080/"
        },
        "id": "y7vJhy72QVF-",
        "outputId": "97caf2c5-a3fa-4fa1-e4a1-33f4c03836e9"
      },
      "execution_count": 3,
      "outputs": [
        {
          "output_type": "stream",
          "name": "stdout",
          "text": [
            "🔧 Loading Qwen 3 model: Qwen/Qwen3-0.6B\n",
            "💻 Device: cuda\n",
            "✅ Qwen 3 model and tokenizer loaded successfully!\n",
            "📊 Model parameters: 596,049,920\n",
            "🔥 Model size: Only 0.6B parameters - perfect for education!\n"
          ]
        }
      ]
    },
    {
      "cell_type": "markdown",
      "source": [
        "This cell evaluates the pre-trained Qwen 3 model's performance on patent classification before fine-tuning.\n",
        "It implements a chat template format for consistent prompt engineering and response generation.\n",
        "The evaluation function processes samples through the model and compares predictions with ground truth IPC codes.\n",
        "Results show the base model produces inconsistent outputs, often generating numbers instead of proper IPC codes.\n",
        "This baseline establishes the performance floor and demonstrates the need for domain-specific fine-tuning."
      ],
      "metadata": {
        "id": "O51uVYgzk0Pk"
      }
    },
    {
      "cell_type": "code",
      "source": [
        "\n",
        "# ============================================================================\n",
        "# SECTION 3: BASELINE EVALUATION WITH CHAT TEMPLATE\n",
        "# ============================================================================\n",
        "\n",
        "print(\"\\n📏 SECTION 3: BASELINE EVALUATION\")\n",
        "print(\"-\" * 40)\n",
        "\n",
        "def generate_prediction(text, model, tokenizer):\n",
        "    \"\"\"Generate IPC code prediction using the base Qwen 3 model with chat template\"\"\"\n",
        "    # Create messages in the format expected by Qwen 3\n",
        "    messages = [\n",
        "        {\n",
        "            \"role\": \"user\",\n",
        "            \"content\": f\"You are an expert patent classifier. Classify this patent into IPC codes. Provide only the codes separated by commas.\\n\\nPatent: {text[:200]}...\"\n",
        "        }\n",
        "    ]\n",
        "\n",
        "    # Apply chat template with thinking disabled for consistency\n",
        "    formatted_text = tokenizer.apply_chat_template(\n",
        "        messages,\n",
        "        tokenize=False,\n",
        "        add_generation_prompt=True,\n",
        "        enable_thinking=False  # Disable for consistency with training\n",
        "    )\n",
        "\n",
        "    model_inputs = tokenizer([formatted_text], return_tensors=\"pt\", max_length=512, truncation=True).to(model.device)\n",
        "\n",
        "\n",
        "    # Generate prediction with proper stopping\n",
        "    with torch.inference_mode():\n",
        "        generated_ids = model.generate(\n",
        "            **model_inputs,\n",
        "            max_new_tokens=50,\n",
        "            temperature=0.1,\n",
        "            do_sample=True,\n",
        "            pad_token_id=tokenizer.eos_token_id,\n",
        "            eos_token_id=tokenizer.eos_token_id,  # Ensure EOS token stops generation\n",
        "        )\n",
        "\n",
        "    # Extract only the new tokens\n",
        "    output_ids = generated_ids[0][len(model_inputs.input_ids[0]):].tolist()\n",
        "\n",
        "    # Decode the response and remove EOS token if present\n",
        "    content = tokenizer.decode(output_ids, skip_special_tokens=True).strip()\n",
        "\n",
        "    return content\n",
        "\n",
        "def evaluate_model_predictions(model, model_name, eval_dataset, tokenizer, num_samples=None):\n",
        "    \"\"\"Evaluate model predictions on test set\"\"\"\n",
        "\n",
        "    # Use all samples for evaluation since we have a small dataset\n",
        "    if num_samples is None:\n",
        "        num_samples = len(eval_dataset)\n",
        "\n",
        "    predictions = []\n",
        "    true_labels = []\n",
        "\n",
        "    print(f\"\\n🔍 Evaluating {model_name} on {num_samples} samples...\")\n",
        "\n",
        "    for i in range(min(num_samples, len(eval_dataset))):\n",
        "        sample = eval_dataset[i]\n",
        "\n",
        "\n",
        "        prediction = generate_prediction(sample['text'], model, tokenizer)\n",
        "\n",
        "        predictions.append(prediction)\n",
        "        true_labels.append(sample['ipc_codes'])\n",
        "\n",
        "        # Show progress\n",
        "        if (i + 1) % 10 == 0:\n",
        "            print(f\"   Processed {i + 1}/{num_samples} samples...\")\n",
        "\n",
        "        if i < 3:  # Show first few examples\n",
        "            print(f\"   Example {i+1}:\")\n",
        "            print(f\"      True: {sample['ipc_codes']}\")\n",
        "            print(f\"      Pred: {prediction}\")\n",
        "\n",
        "    return predictions, true_labels\n",
        "\n",
        "# Test baseline model on a few samples\n",
        "print(\"🔍 Testing baseline Qwen 3 model performance:\")\n",
        "for i in range(3):\n",
        "    sample = eval_ds[i]\n",
        "    prediction = generate_prediction(sample[\"text\"], model, tokenizer)\n",
        "    print(f\"\\n📄 Sample {i+1}:\")\n",
        "    print(f\"   True IPC: {sample['ipc_codes']}\")\n",
        "    print(f\"   Predicted: {prediction}\")\n",
        "\n",
        "# Evaluate both models\n",
        "results = {}\n",
        "\n",
        "# Base model evaluation\n",
        "print(\"📏 Evaluating Base Qwen 3 Model...\")\n",
        "base_preds, true_labels = evaluate_model_predictions(\n",
        "    model, \"Base Qwen 3\", eval_ds, tokenizer\n",
        ")\n",
        "results[\"Base Qwen 3\"] = base_preds\n"
      ],
      "metadata": {
        "colab": {
          "base_uri": "https://localhost:8080/"
        },
        "id": "QccO7i8ERGL2",
        "outputId": "addb1202-adbc-4f89-df10-90809d9b33fc"
      },
      "execution_count": 4,
      "outputs": [
        {
          "output_type": "stream",
          "name": "stdout",
          "text": [
            "\n",
            "📏 SECTION 3: BASELINE EVALUATION\n",
            "----------------------------------------\n",
            "🔍 Testing baseline Qwen 3 model performance:\n",
            "\n",
            "📄 Sample 1:\n",
            "   True IPC: B60K6, F16H3\n",
            "   Predicted: IPC: 3624000\n",
            "\n",
            "📄 Sample 2:\n",
            "   True IPC: G11B23\n",
            "   Predicted: IPC: 3629000\n",
            "\n",
            "📄 Sample 3:\n",
            "   True IPC: F25B49, F25B13\n",
            "   Predicted: 104,104,104,104\n",
            "📏 Evaluating Base Qwen 3 Model...\n",
            "\n",
            "🔍 Evaluating Base Qwen 3 on 125 samples...\n",
            "   Example 1:\n",
            "      True: B60K6, F16H3\n",
            "      Pred: IPC: 3629000\n",
            "   Example 2:\n",
            "      True: G11B23\n",
            "      Pred: IPC: 3629000\n",
            "   Example 3:\n",
            "      True: F25B49, F25B13\n",
            "      Pred: 104,104,104,104\n",
            "   Processed 10/125 samples...\n",
            "   Processed 20/125 samples...\n",
            "   Processed 30/125 samples...\n",
            "   Processed 40/125 samples...\n",
            "   Processed 50/125 samples...\n",
            "   Processed 60/125 samples...\n",
            "   Processed 70/125 samples...\n",
            "   Processed 80/125 samples...\n",
            "   Processed 90/125 samples...\n",
            "   Processed 100/125 samples...\n",
            "   Processed 110/125 samples...\n",
            "   Processed 120/125 samples...\n"
          ]
        }
      ]
    },
    {
      "cell_type": "markdown",
      "source": [
        "This cell transforms the raw patent data into instruction-following format suitable for fine-tuning.\n",
        "Each example is converted to a user-assistant conversation pair using Qwen's chat template format.\n",
        "The function tokenizes conversations with proper padding and truncation (512 max tokens for stability).\n",
        "Labels are created by copying input_ids and masking padding tokens (-100) to ignore them in loss calculation.\n",
        "EOS tokens are explicitly added to teach the model when to stop generating responses."
      ],
      "metadata": {
        "id": "BfoAVV-6k8-B"
      }
    },
    {
      "cell_type": "code",
      "source": [
        "\n",
        "# ============================================================================\n",
        "# SECTION 4: INSTRUCTION FINE-TUNING DATASET PREPARATION\n",
        "# ============================================================================\n",
        "\n",
        "\n",
        "def prepare_instruction_dataset(dataset, tokenizer, max_length=512):  # Reduced max_length\n",
        "    \"\"\"Prepare dataset for instruction fine-tuning with Qwen chat template format\"\"\"\n",
        "\n",
        "    # Convert dataset to pandas for easier manipulation if needed\n",
        "    if hasattr(dataset, 'to_pandas'):\n",
        "        df = dataset.to_pandas()\n",
        "    else:\n",
        "        df = pd.DataFrame(dataset)\n",
        "\n",
        "    # Prepare instruction data\n",
        "    formatted_texts = []\n",
        "\n",
        "    print(f\"🔄 Preparing {len(df)} conversation examples...\")\n",
        "\n",
        "    for _, row in df.iterrows():\n",
        "        # Create instruction-following format using Qwen chat template\n",
        "        messages = [\n",
        "            {\n",
        "                \"role\": \"user\",\n",
        "                \"content\": f\"You are an expert patent classifier. Classify this patent into IPC codes. Provide only the codes separated by commas.\\n\\nPatent: {row['text'][:200]}\"  # Shorter text\n",
        "            },\n",
        "            {\n",
        "                \"role\": \"assistant\",\n",
        "                \"content\": row['ipc_codes'] + tokenizer.eos_token  # ADD EOS TOKEN HERE\n",
        "            }\n",
        "        ]\n",
        "\n",
        "        # Apply chat template\n",
        "        formatted_text = tokenizer.apply_chat_template(\n",
        "            messages,\n",
        "            tokenize=False,\n",
        "            add_generation_prompt=False,\n",
        "            enable_thinking=False  # Disable thinking for training to avoid complexity\n",
        "        )\n",
        "        formatted_texts.append(formatted_text)\n",
        "\n",
        "    print(formatted_texts[0])\n",
        "\n",
        "    # Tokenize all texts with proper padding and truncation\n",
        "    print(f\"🔄 Tokenizing {len(formatted_texts)} samples...\")\n",
        "\n",
        "    tokenized_data = tokenizer(\n",
        "        formatted_texts,\n",
        "        truncation=True,\n",
        "        padding=True,  # Enable padding\n",
        "        max_length=max_length,\n",
        "        return_tensors=\"pt\",\n",
        "        return_attention_mask=True,\n",
        "    )\n",
        "\n",
        "    # Convert to lists for Dataset creation\n",
        "    tokenized_dict = {\n",
        "        \"input_ids\": tokenized_data[\"input_ids\"].tolist(),\n",
        "        \"attention_mask\": tokenized_data[\"attention_mask\"].tolist(),\n",
        "    }\n",
        "\n",
        "    # Add labels (copy of input_ids for causal LM) with proper masking\n",
        "    labels = tokenized_data[\"input_ids\"].clone()\n",
        "    # Set padding tokens to -100 so they're ignored in loss calculation\n",
        "    labels[tokenized_data[\"input_ids\"] == tokenizer.pad_token_id] = -100\n",
        "    tokenized_dict[\"labels\"] = labels.tolist()\n",
        "\n",
        "    # Convert to Dataset\n",
        "    final_dataset = Dataset.from_dict(tokenized_dict)\n",
        "\n",
        "    return final_dataset\n",
        "\n",
        "# Prepare instruction datasets\n",
        "print(\"🔄 Preparing instruction fine-tuning datasets...\")\n",
        "print(\"💡 Using shorter sequences (512 tokens) and proper padding for stable training...\")\n",
        "print(\"🔚 IMPORTANT: Adding EOS tokens to teach the model when to stop generating!\")\n",
        "inst_train_ds = prepare_instruction_dataset(train_ds, tokenizer)\n",
        "inst_eval_ds = prepare_instruction_dataset(eval_ds, tokenizer)\n",
        "\n",
        "print(\"✅ Instruction datasets prepared with chat template format\")\n",
        "print(f\"📊 Training samples: {len(inst_train_ds)}\")\n",
        "print(f\"📊 Evaluation samples: {len(inst_eval_ds)}\")\n"
      ],
      "metadata": {
        "colab": {
          "base_uri": "https://localhost:8080/"
        },
        "id": "1XppNPOyRtTu",
        "outputId": "96144f32-1731-47d1-d93d-6597d5cb3932"
      },
      "execution_count": 5,
      "outputs": [
        {
          "output_type": "stream",
          "name": "stdout",
          "text": [
            "🔄 Preparing instruction fine-tuning datasets...\n",
            "💡 Using shorter sequences (512 tokens) and proper padding for stable training...\n",
            "🔚 IMPORTANT: Adding EOS tokens to teach the model when to stop generating!\n",
            "🔄 Preparing 2375 conversation examples...\n",
            "<|im_start|>user\n",
            "You are an expert patent classifier. Classify this patent into IPC codes. Provide only the codes separated by commas.\n",
            "\n",
            "Patent: Laser treatment of electrical steel A process is taught for improving the core loss of magnetic materials of the type having a plurality of magnetic domains and an insulative coating thereon. The insu<|im_end|>\n",
            "<|im_start|>assistant\n",
            "<think>\n",
            "\n",
            "</think>\n",
            "\n",
            "B23K26, H01F1<|im_end|><|im_end|>\n",
            "\n",
            "🔄 Tokenizing 2375 samples...\n",
            "🔄 Preparing 125 conversation examples...\n",
            "<|im_start|>user\n",
            "You are an expert patent classifier. Classify this patent into IPC codes. Provide only the codes separated by commas.\n",
            "\n",
            "Patent: Transmission To provide a transmission capable of using generator/motors of smaller maximum torque and of small size. The transmission includes input shaft (4), output shaft (16), a mechanical transmi<|im_end|>\n",
            "<|im_start|>assistant\n",
            "<think>\n",
            "\n",
            "</think>\n",
            "\n",
            "B60K6, F16H3<|im_end|><|im_end|>\n",
            "\n",
            "🔄 Tokenizing 125 samples...\n",
            "✅ Instruction datasets prepared with chat template format\n",
            "📊 Training samples: 2375\n",
            "📊 Evaluation samples: 125\n"
          ]
        }
      ]
    },
    {
      "cell_type": "markdown",
      "source": [
        "This cell configures Low-Rank Adaptation (LoRA) for efficient fine-tuning of the large language model.\n",
        "LoRA parameters include rank=16, alpha=32, and dropout=0.1, targeting key attention and MLP layers.\n",
        "Training arguments are optimized for the sample dataset with 2 epochs, batch size 8, and learning rate 1e-4.\n",
        "The configuration enables training only 1.67% of total parameters (10M out of 596M) for efficiency.\n",
        "Data collator is set up for causal language modeling with proper padding alignment."
      ],
      "metadata": {
        "id": "9cTlStU8lAa8"
      }
    },
    {
      "cell_type": "code",
      "source": [
        "\n",
        "\n",
        "# ============================================================================\n",
        "# SECTION 5: LORA CONFIGURATION AND TRAINING SETUP\n",
        "# ============================================================================\n",
        "\n",
        "\n",
        "# Setup LoRA for efficient fine-tuning\n",
        "lora_config = LoraConfig(\n",
        "    # Specifies the task type - CAUSAL_LM indicates we're doing causal language modeling\n",
        "    # where the model predicts the next token given previous tokens\n",
        "    task_type=TaskType.CAUSAL_LM,\n",
        "\n",
        "    # Set to False during training, True during inference\n",
        "    # Controls whether LoRA adapters are active (False = training mode)\n",
        "    inference_mode=False,\n",
        "\n",
        "    # Rank of the low-rank decomposition matrices (A and B)\n",
        "    # Lower values (4-16) = fewer parameters, faster training, less expressiveness\n",
        "    # Higher values (32-64) = more parameters, slower training, more expressiveness\n",
        "    # 16 is a good balance between efficiency and performance\n",
        "    r=16,\n",
        "\n",
        "    # Scaling factor that controls the magnitude of LoRA adaptations\n",
        "    # Formula: LoRA_output = (alpha/r) * B * A * input\n",
        "    # Higher alpha = stronger adaptation, lower alpha = weaker adaptation\n",
        "    # Typically set to 2*r (32 for r=16) for optimal performance\n",
        "    lora_alpha=32,\n",
        "\n",
        "    # Dropout probability applied to LoRA layers for regularization\n",
        "    # Helps prevent overfitting by randomly setting some neurons to zero\n",
        "    # 0.1 (10%) is a common choice, can range from 0.0 to 0.3\n",
        "    lora_dropout=0.1,\n",
        "\n",
        "    # List of module names where LoRA adapters will be inserted\n",
        "    # These target the key components of transformer attention and feed-forward layers:\n",
        "    # - q_proj, k_proj, v_proj: Query, Key, Value projections in self-attention\n",
        "    # - o_proj: Output projection after attention\n",
        "    # - gate_proj, up_proj, down_proj: Components of the MLP/feed-forward network\n",
        "    # Targeting these layers captures most of the model's learning capacity\n",
        "    target_modules=[\"q_proj\", \"v_proj\", \"k_proj\", \"o_proj\", \"gate_proj\", \"up_proj\", \"down_proj\"]\n",
        ")\n",
        "\n",
        "# Create LoRA model for instruction tuning\n",
        "print(\"🔧 Creating LoRA model...\")\n",
        "inst_model = get_peft_model(model, lora_config)\n",
        "inst_model.print_trainable_parameters()\n",
        "\n",
        "# Training arguments for instruction tuning (optimized for sample data)\n",
        "inst_training_args = TrainingArguments(\n",
        "    output_dir=\"./instruction_results\",\n",
        "    num_train_epochs=2,  # Fewer epochs for sample data\n",
        "    per_device_train_batch_size=8,  # Smaller batch size for stability\n",
        "    per_device_eval_batch_size=8,\n",
        "    gradient_accumulation_steps=4,  # Increase to maintain effective batch size\n",
        "    warmup_steps=50,  # Fewer warmup steps\n",
        "    learning_rate=1e-4,  # Lower learning rate for stability\n",
        "    fp16=True,\n",
        "    logging_steps=10,  # More frequent logging for smaller dataset\n",
        "    logging_dir=None,  # Disable tensorboard logging\n",
        "    eval_strategy=\"steps\",\n",
        "    eval_steps=50,  # Less frequent evaluation for stability\n",
        "    save_strategy=\"steps\",\n",
        "    save_steps=100,\n",
        "    load_best_model_at_end=True,\n",
        "    metric_for_best_model=\"eval_loss\",\n",
        "    greater_is_better=False,\n",
        "    report_to=[],  # Disable all external logging (wandb, tensorboard, etc.)\n",
        "    remove_unused_columns=False,\n",
        "    dataloader_pin_memory=False,  # Can help with smaller datasets\n",
        "    disable_tqdm=False,  # Keep progress bars for educational purposes\n",
        "    max_grad_norm=1.0,  # Gradient clipping for stability\n",
        "    dataloader_drop_last=True,  # Drop incomplete batches\n",
        ")\n",
        "\n",
        "# Data collator for language modeling with proper padding\n",
        "data_collator = DataCollatorForLanguageModeling(\n",
        "    tokenizer=tokenizer,\n",
        "    mlm=False,  # We're doing causal LM, not masked LM\n",
        "    pad_to_multiple_of=8,\n",
        "    return_tensors=\"pt\",\n",
        ")\n",
        "\n",
        "print(\"✅ LoRA configuration and training setup completed\")"
      ],
      "metadata": {
        "colab": {
          "base_uri": "https://localhost:8080/"
        },
        "id": "9B98jsqtSIc4",
        "outputId": "d25cd76a-a8ae-4438-af27-f792f4dfc3b7"
      },
      "execution_count": 6,
      "outputs": [
        {
          "output_type": "stream",
          "name": "stdout",
          "text": [
            "🔧 Creating LoRA model...\n",
            "trainable params: 10,092,544 || all params: 606,142,464 || trainable%: 1.6650\n",
            "✅ LoRA configuration and training setup completed\n"
          ]
        }
      ]
    },
    {
      "cell_type": "markdown",
      "source": [
        "This cell executes the actual fine-tuning process using the Trainer class from transformers.\n",
        "The training runs for 2 epochs with evaluation steps every 50 iterations to monitor progress.\n",
        "Training loss decreases from ~1.6 to ~1.4, indicating the model is learning the patent classification task.\n",
        "The trained model and tokenizer are saved to disk for future use and deployment.\n",
        "Progress bars and loss metrics provide real-time feedback on training effectiveness."
      ],
      "metadata": {
        "id": "JNsUmjPqlKeQ"
      }
    },
    {
      "cell_type": "code",
      "source": [
        "\n",
        "# ============================================================================\n",
        "# SECTION 6: INSTRUCTION FINE-TUNING\n",
        "# ============================================================================\n",
        "\n",
        "\n",
        "# Create trainer for instruction tuning\n",
        "inst_trainer = Trainer(\n",
        "    model=inst_model,\n",
        "    args=inst_training_args,\n",
        "    train_dataset=inst_train_ds,\n",
        "    eval_dataset=inst_eval_ds,\n",
        "    data_collator=data_collator,\n",
        ")\n",
        "\n",
        "print(\"🎯 Starting Instruction fine-tuning of Qwen 3...\")\n",
        "print(\"⏱️  This may take a while depending on your hardware...\")\n",
        "\n",
        "# Train the model\n",
        "training_output = inst_trainer.train()\n",
        "\n",
        "print(\"✅ Instruction fine-tuning completed!\")\n",
        "print(f\"📊 Final training loss: {training_output.training_loss:.4f}\")\n",
        "\n",
        "# Save the fine-tuned model\n",
        "print(\"💾 Saving fine-tuned model...\")\n",
        "inst_trainer.save_model(\"./qwen3_ipc_finetuned\")\n",
        "tokenizer.save_pretrained(\"./qwen3_ipc_finetuned\")"
      ],
      "metadata": {
        "colab": {
          "base_uri": "https://localhost:8080/",
          "height": 384
        },
        "id": "XLqiize-SVlX",
        "outputId": "2a852db3-1488-4b6d-bb98-4f9fa74393c9"
      },
      "execution_count": 7,
      "outputs": [
        {
          "output_type": "stream",
          "name": "stderr",
          "text": [
            "No label_names provided for model class `PeftModelForCausalLM`. Since `PeftModel` hides base models input arguments, if label_names is not given, label_names can't be set automatically within `Trainer`. Note that empty label_names list will be used instead.\n"
          ]
        },
        {
          "output_type": "stream",
          "name": "stdout",
          "text": [
            "🎯 Starting Instruction fine-tuning of Qwen 3...\n",
            "⏱️  This may take a while depending on your hardware...\n"
          ]
        },
        {
          "output_type": "display_data",
          "data": {
            "text/plain": [
              "<IPython.core.display.HTML object>"
            ],
            "text/html": [
              "\n",
              "    <div>\n",
              "      \n",
              "      <progress value='148' max='148' style='width:300px; height:20px; vertical-align: middle;'></progress>\n",
              "      [148/148 07:32, Epoch 2/2]\n",
              "    </div>\n",
              "    <table border=\"1\" class=\"dataframe\">\n",
              "  <thead>\n",
              " <tr style=\"text-align: left;\">\n",
              "      <th>Step</th>\n",
              "      <th>Training Loss</th>\n",
              "      <th>Validation Loss</th>\n",
              "    </tr>\n",
              "  </thead>\n",
              "  <tbody>\n",
              "    <tr>\n",
              "      <td>50</td>\n",
              "      <td>1.617000</td>\n",
              "      <td>1.608544</td>\n",
              "    </tr>\n",
              "    <tr>\n",
              "      <td>100</td>\n",
              "      <td>1.380600</td>\n",
              "      <td>1.465054</td>\n",
              "    </tr>\n",
              "  </tbody>\n",
              "</table><p>"
            ]
          },
          "metadata": {}
        },
        {
          "output_type": "stream",
          "name": "stdout",
          "text": [
            "✅ Instruction fine-tuning completed!\n",
            "📊 Final training loss: 1.8065\n",
            "💾 Saving fine-tuned model...\n"
          ]
        },
        {
          "output_type": "execute_result",
          "data": {
            "text/plain": [
              "('./qwen3_ipc_finetuned/tokenizer_config.json',\n",
              " './qwen3_ipc_finetuned/special_tokens_map.json',\n",
              " './qwen3_ipc_finetuned/chat_template.jinja',\n",
              " './qwen3_ipc_finetuned/vocab.json',\n",
              " './qwen3_ipc_finetuned/merges.txt',\n",
              " './qwen3_ipc_finetuned/added_tokens.json',\n",
              " './qwen3_ipc_finetuned/tokenizer.json')"
            ]
          },
          "metadata": {},
          "execution_count": 7
        }
      ]
    },
    {
      "cell_type": "markdown",
      "source": [
        "This cell performs essential memory cleanup after training to free up GPU/system resources.\n",
        "It deletes training objects, datasets, and other large variables no longer needed for evaluation.\n",
        "Garbage collection and CUDA cache clearing ensure maximum available memory for model inference.\n",
        "This step is crucial in resource-constrained environments to prevent out-of-memory errors."
      ],
      "metadata": {
        "id": "xfwF_1umlNFE"
      }
    },
    {
      "cell_type": "code",
      "source": [
        "# Free training memory\n",
        "del inst_trainer\n",
        "del inst_train_ds, inst_eval_ds\n",
        "del training_output\n",
        "torch.cuda.empty_cache()\n",
        "import gc\n",
        "gc.collect()\n",
        "\n",
        "print(\"🧹 Training memory freed. Only base and fine-tuned models remain.\")"
      ],
      "metadata": {
        "colab": {
          "base_uri": "https://localhost:8080/"
        },
        "id": "4l2rr2wFUe5x",
        "outputId": "5dda5d12-bfb5-4797-a78b-4358f6500999"
      },
      "execution_count": 8,
      "outputs": [
        {
          "output_type": "stream",
          "name": "stdout",
          "text": [
            "🧹 Training memory freed. Only base and fine-tuned models remain.\n"
          ]
        }
      ]
    },
    {
      "cell_type": "markdown",
      "source": [
        "This cell conducts extensive evaluation comparing base and fine-tuned model performance.\n",
        "Multiple metrics are calculated: exact match accuracy, partial match accuracy, precision, recall, and F1-score.\n",
        "The fine-tuned model shows improvement across all metrics compared to the baseline model.\n",
        "Comprehensive visualizations display performance comparisons through bar charts and line plots.\n",
        "Results demonstrate that fine-tuning successfully adapted the model to patent classification tasks, though performance remains modest due to the limited training data and compact model size."
      ],
      "metadata": {
        "id": "lckcSPLhlSFF"
      }
    },
    {
      "cell_type": "code",
      "execution_count": 9,
      "metadata": {
        "colab": {
          "base_uri": "https://localhost:8080/",
          "height": 1000
        },
        "id": "qrlwJ_pDD76c",
        "outputId": "d36ddece-3c22-4c98-ed17-8022130f28d3"
      },
      "outputs": [
        {
          "output_type": "stream",
          "name": "stdout",
          "text": [
            "\n",
            "📊 SECTION 7: MODEL EVALUATION\n",
            "----------------------------------------\n",
            "📏 Evaluating Fine-tuned Qwen 3 Model...\n",
            "\n",
            "🔍 Evaluating Fine-tuned Qwen 3 on 125 samples...\n",
            "   Example 1:\n",
            "      True: B60K6, F16H3\n",
            "      Pred: F16H1, F16H11\n",
            "   Example 2:\n",
            "      True: G11B23\n",
            "      Pred: G06F17\n",
            "   Example 3:\n",
            "      True: F25B49, F25B13\n",
            "      Pred: F24F1, F24F11\n",
            "   Processed 10/125 samples...\n",
            "   Processed 20/125 samples...\n",
            "   Processed 30/125 samples...\n",
            "   Processed 40/125 samples...\n",
            "   Processed 50/125 samples...\n",
            "   Processed 60/125 samples...\n",
            "   Processed 70/125 samples...\n",
            "   Processed 80/125 samples...\n",
            "   Processed 90/125 samples...\n",
            "   Processed 100/125 samples...\n",
            "   Processed 110/125 samples...\n",
            "   Processed 120/125 samples...\n",
            "\n",
            "📈 SECTION 8: RESULTS ANALYSIS\n",
            "----------------------------------------\n",
            "🎯 COMPREHENSIVE ACCURACY COMPARISON:\n",
            "============================================================\n",
            "\n",
            "🤖 Base Qwen 3:\n",
            "   📊 Exact Match Accuracy: 0.000\n",
            "   📊 Partial Match Accuracy: 0.000\n",
            "   📊 Average Precision: 0.000\n",
            "   📊 Average Recall: 0.000\n",
            "   📊 F1 Score: 0.000\n",
            "\n",
            "🤖 Fine-tuned Qwen 3:\n",
            "   📊 Exact Match Accuracy: 0.016\n",
            "   📊 Partial Match Accuracy: 0.040\n",
            "   📊 Average Precision: 0.024\n",
            "   📊 Average Recall: 0.021\n",
            "   📊 F1 Score: 0.022\n"
          ]
        },
        {
          "output_type": "display_data",
          "data": {
            "text/plain": [
              "<Figure size 1500x1000 with 4 Axes>"
            ],
            "image/png": "[encoded data removed]"
          },
          "metadata": {}
        },
        {
          "output_type": "stream",
          "name": "stdout",
          "text": [
            "\n",
            "🎓 SECTION 9: KEY FINDINGS AND PRACTICAL TAKEAWAYS\n",
            "----------------------------------------\n"
          ]
        }
      ],
      "source": [
        "\n",
        "print(\"\\n📊 SECTION 7: MODEL EVALUATION\")\n",
        "print(\"-\" * 40)\n",
        "\n",
        "# Fine-tuned model evaluation\n",
        "print(\"📏 Evaluating Fine-tuned Qwen 3 Model...\")\n",
        "finetuned_preds, _ = evaluate_model_predictions(\n",
        "    inst_model, \"Fine-tuned Qwen 3\", eval_ds, tokenizer\n",
        ")\n",
        "results[\"Fine-tuned Qwen 3\"] = finetuned_preds\n",
        "\n",
        "\n",
        "def calculate_exact_match_accuracy(predictions, true_labels):\n",
        "    \"\"\"Calculate exact match accuracy\"\"\"\n",
        "    matches = 0\n",
        "    for pred, true in zip(predictions, true_labels):\n",
        "        if pred.strip().lower() == true.strip().lower():\n",
        "            matches += 1\n",
        "    return matches / len(predictions)\n",
        "\n",
        "def calculate_partial_match_accuracy(predictions, true_labels):\n",
        "    \"\"\"Calculate partial match accuracy (if any predicted code matches true codes)\"\"\"\n",
        "    matches = 0\n",
        "    for pred, true in zip(predictions, true_labels):\n",
        "        pred_codes = set([code.strip() for code in pred.split(',') if code.strip()])\n",
        "        true_codes = set([code.strip() for code in true.split(',') if code.strip()])\n",
        "        if pred_codes.intersection(true_codes):\n",
        "            matches += 1\n",
        "    return matches / len(predictions)\n",
        "\n",
        "def calculate_precision_recall(predictions, true_labels):\n",
        "    \"\"\"Calculate average precision and recall across all samples\"\"\"\n",
        "    total_precision = 0\n",
        "    total_recall = 0\n",
        "    valid_samples = 0\n",
        "\n",
        "    for pred, true in zip(predictions, true_labels):\n",
        "        pred_codes = set([code.strip() for code in pred.split(',') if code.strip()])\n",
        "        true_codes = set([code.strip() for code in true.split(',') if code.strip()])\n",
        "\n",
        "        if len(pred_codes) > 0 and len(true_codes) > 0:\n",
        "            intersection = pred_codes.intersection(true_codes)\n",
        "            precision = len(intersection) / len(pred_codes) if len(pred_codes) > 0 else 0\n",
        "            recall = len(intersection) / len(true_codes) if len(true_codes) > 0 else 0\n",
        "\n",
        "            total_precision += precision\n",
        "            total_recall += recall\n",
        "            valid_samples += 1\n",
        "\n",
        "    if valid_samples > 0:\n",
        "        avg_precision = total_precision / valid_samples\n",
        "        avg_recall = total_recall / valid_samples\n",
        "        f1 = 2 * (avg_precision * avg_recall) / (avg_precision + avg_recall) if (avg_precision + avg_recall) > 0 else 0\n",
        "        return avg_precision, avg_recall, f1\n",
        "    else:\n",
        "        return 0, 0, 0\n",
        "\n",
        "# Calculate metrics for each model\n",
        "print(\"🎯 COMPREHENSIVE ACCURACY COMPARISON:\")\n",
        "print(\"=\" * 60)\n",
        "\n",
        "metrics_summary = {}\n",
        "\n",
        "for model_name, preds in results.items():\n",
        "    exact_acc = calculate_exact_match_accuracy(preds, true_labels)\n",
        "    partial_acc = calculate_partial_match_accuracy(preds, true_labels)\n",
        "    precision, recall, f1 = calculate_precision_recall(preds, true_labels)\n",
        "\n",
        "    metrics_summary[model_name] = {\n",
        "        'exact_acc': exact_acc,\n",
        "        'partial_acc': partial_acc,\n",
        "        'precision': precision,\n",
        "        'recall': recall,\n",
        "        'f1': f1\n",
        "    }\n",
        "\n",
        "    print(f\"\\n🤖 {model_name}:\")\n",
        "    print(f\"   📊 Exact Match Accuracy: {exact_acc:.3f}\")\n",
        "    print(f\"   📊 Partial Match Accuracy: {partial_acc:.3f}\")\n",
        "    print(f\"   📊 Average Precision: {precision:.3f}\")\n",
        "    print(f\"   📊 Average Recall: {recall:.3f}\")\n",
        "    print(f\"   📊 F1 Score: {f1:.3f}\")\n",
        "\n",
        "# Create comprehensive visualization\n",
        "fig, axes = plt.subplots(2, 2, figsize=(15, 10))\n",
        "\n",
        "model_names = list(results.keys())\n",
        "exact_accuracies = [metrics_summary[name]['exact_acc'] for name in model_names]\n",
        "partial_accuracies = [metrics_summary[name]['partial_acc'] for name in model_names]\n",
        "precisions = [metrics_summary[name]['precision'] for name in model_names]\n",
        "recalls = [metrics_summary[name]['recall'] for name in model_names]\n",
        "f1_scores = [metrics_summary[name]['f1'] for name in model_names]\n",
        "\n",
        "# Accuracy comparison\n",
        "axes[0, 0].bar(model_names, exact_accuracies, alpha=0.7, label='Exact Match', color='skyblue')\n",
        "axes[0, 0].bar(model_names, partial_accuracies, alpha=0.7, label='Partial Match', color='lightgreen')\n",
        "axes[0, 0].set_title('Accuracy Comparison')\n",
        "axes[0, 0].set_ylabel('Accuracy')\n",
        "axes[0, 0].legend()\n",
        "axes[0, 0].tick_params(axis='x', rotation=45)\n",
        "\n",
        "# Precision and Recall\n",
        "x = np.arange(len(model_names))\n",
        "width = 0.35\n",
        "axes[0, 1].bar(x - width/2, precisions, width, label='Precision', alpha=0.7, color='orange')\n",
        "axes[0, 1].bar(x + width/2, recalls, width, label='Recall', alpha=0.7, color='red')\n",
        "axes[0, 1].set_title('Precision and Recall')\n",
        "axes[0, 1].set_ylabel('Score')\n",
        "axes[0, 1].set_xticks(x)\n",
        "axes[0, 1].set_xticklabels(model_names, rotation=45)\n",
        "axes[0, 1].legend()\n",
        "\n",
        "# F1 Score comparison\n",
        "axes[1, 0].bar(model_names, f1_scores, alpha=0.7, color='purple')\n",
        "axes[1, 0].set_title('F1 Score Comparison')\n",
        "axes[1, 0].set_ylabel('F1 Score')\n",
        "axes[1, 0].tick_params(axis='x', rotation=45)\n",
        "\n",
        "# Overall performance radar (simplified as line plot)\n",
        "metrics = ['Exact Acc', 'Partial Acc', 'Precision', 'Recall', 'F1']\n",
        "base_scores = [exact_accuracies[0], partial_accuracies[0], precisions[0], recalls[0], f1_scores[0]]\n",
        "ft_scores = [exact_accuracies[1], partial_accuracies[1], precisions[1], recalls[1], f1_scores[1]]\n",
        "\n",
        "axes[1, 1].plot(metrics, base_scores, 'o-', label=model_names[0], linewidth=2, markersize=8)\n",
        "axes[1, 1].plot(metrics, ft_scores, 's-', label=model_names[1], linewidth=2, markersize=8)\n",
        "axes[1, 1].set_title('Overall Performance Comparison')\n",
        "axes[1, 1].set_ylabel('Score')\n",
        "axes[1, 1].legend()\n",
        "axes[1, 1].tick_params(axis='x', rotation=45)\n",
        "axes[1, 1].grid(True, alpha=0.3)\n",
        "\n",
        "plt.tight_layout()\n",
        "plt.show()\n",
        "\n"
      ]
    }
  ]
}